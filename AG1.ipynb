{
  "nbformat": 4,
  "nbformat_minor": 0,
  "metadata": {
    "colab": {
      "name": "AG1.ipynb",
      "provenance": [],
      "authorship_tag": "ABX9TyOsWuSvyWdwJx0SY/3nAoqM",
      "include_colab_link": true
    },
    "kernelspec": {
      "name": "python3",
      "display_name": "Python 3"
    },
    "language_info": {
      "name": "python"
    }
  },
  "cells": [
    {
      "cell_type": "markdown",
      "metadata": {
        "id": "view-in-github",
        "colab_type": "text"
      },
      "source": [
        "<a href=\"https://colab.research.google.com/github/marcpp97/marcpp97/blob/main/AG1.ipynb\" target=\"_parent\"><img src=\"https://colab.research.google.com/assets/colab-badge.svg\" alt=\"Open In Colab\"/></a>"
      ]
    },
    {
      "cell_type": "code",
      "execution_count": 14,
      "metadata": {
        "colab": {
          "base_uri": "https://localhost:8080/"
        },
        "id": "qLVSU31mqHZf",
        "outputId": "7870bc4e-3bad-4ab5-a816-ed05442e2d2d"
      },
      "outputs": [
        {
          "output_type": "stream",
          "name": "stdout",
          "text": [
            "Lleva la ficha desde 1 hasta 3\n",
            "Lleva la ficha desde 1 hasta 2\n",
            "Lleva la ficha desde 3 hasta 2\n",
            "Lleva la ficha desde 1 hasta 3\n",
            "Lleva la ficha desde 2 hasta 1\n",
            "Lleva la ficha desde 2 hasta 3\n",
            "Lleva la ficha desde 1 hasta 3\n"
          ]
        }
      ],
      "source": [
        "# Torres de Hanoi\n",
        "\n",
        "def Torres_Hanoi(N, desde, hasta):\n",
        "  if N==1:\n",
        "    print(\"Lleva la ficha desde \" + str(desde) + \" hasta \" + str(hasta))\n",
        "  else:\n",
        "    Torres_Hanoi(N-1,desde,6-desde-hasta)\n",
        "    print(\"Lleva la ficha desde \" + str(desde) + \" hasta \" + str(hasta))\n",
        "    Torres_Hanoi(N-1,6-desde-hasta,hasta)\n",
        "\n",
        "Torres_Hanoi(3,1,3)"
      ]
    },
    {
      "cell_type": "code",
      "source": [
        "# Cambio de monedas\n",
        "\n",
        "sistema_inicial=[25,10,5,1]\n",
        "def cambio_monedas(cantidad,sistema):\n",
        "  solucion = [0]*len(sistema)\n",
        "  valor_acumulado = 0\n",
        "  for i,valor in enumerate(sistema):\n",
        "    monedas = (cantidad-valor_acumulado)//valor\n",
        "    solucion[i] = monedas\n",
        "    valor_acumulado += monedas*valor\n",
        "    if cantidad == valor_acumulado:\n",
        "      return solucion\n",
        "\n",
        "cambio_monedas(7,sistema_inicial)"
      ],
      "metadata": {
        "colab": {
          "base_uri": "https://localhost:8080/"
        },
        "id": "nJnT5aiLxniy",
        "outputId": "342b0202-3cae-48a3-9104-84bffcc8b63c"
      },
      "execution_count": 15,
      "outputs": [
        {
          "output_type": "execute_result",
          "data": {
            "text/plain": [
              "[0, 0, 1, 2]"
            ]
          },
          "metadata": {},
          "execution_count": 15
        }
      ]
    },
    {
      "cell_type": "code",
      "source": [
        "# Es prometedora\n",
        "\n",
        "def es_prometedora(solucion, etapa):\n",
        "  return 0"
      ],
      "metadata": {
        "id": "G5wyCnvl5bIZ"
      },
      "execution_count": 18,
      "outputs": []
    },
    {
      "cell_type": "code",
      "source": [
        "#N-Reinas\n",
        "\n",
        "def reinas(N,solucion=[],etapa=0):\n",
        "  if len(solucion) == 0:\n",
        "    solucion = [0 for i in range(N)]\n",
        "  for i in range(1,N+1):\n",
        "    solucion[etapa] = i\n",
        "    if es_prometedora(solucion, etapa):\n",
        "      if etapa == N-1:\n",
        "        print(solucion)\n",
        "      else:\n",
        "        reinas(N,solucion,etapa+1)\n",
        "    else:\n",
        "      None\n",
        "  solucion[etapa] = 0\n",
        "\n",
        "reinas(2)"
      ],
      "metadata": {
        "id": "_DsJsfRM385A"
      },
      "execution_count": 19,
      "outputs": []
    }
  ]
}